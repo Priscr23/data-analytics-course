{
 "cells": [
  {
   "cell_type": "code",
   "execution_count": 13,
   "metadata": {},
   "outputs": [
    {
     "name": "stdout",
     "output_type": "stream",
     "text": [
      "Introduzca dos números: \n",
      "10 8\n",
      "El número 10 tiene mayor longitud de Collatz con 7 largo.\n"
     ]
    }
   ],
   "source": [
    "def collatz(n):\n",
    "    if n % 2 == 0:\n",
    "        numero = n // 2\n",
    "    elif n % 2 == 1:\n",
    "        numero = 3 * n + 1\n",
    "    else:\n",
    "        print(\"error\")\n",
    "    return numero\n",
    "\n",
    "print(\"Introduzca dos números: \")\n",
    "n = int(input())\n",
    "m = int(input())\n",
    "print(n, m)\n",
    "\n",
    "def contar_l(numero):\n",
    "    secuencia = [numero]\n",
    "    while numero != 1:\n",
    "        numero = collatz(numero)\n",
    "        secuencia.append(numero)\n",
    "    return secuencia\n",
    "\n",
    "if n == 1 and m == 1:\n",
    "    print(n, m)\n",
    "else:\n",
    "    secuencia1 = contar_l(n)\n",
    "    secuencia2 = contar_l(m)\n",
    "\n",
    "l1=len(secuencia1)\n",
    "l2=len(secuencia2)\n",
    "print(secuencia1)\n",
    "print(secuencia2)\n",
    "\n",
    "if l1 > l2:\n",
    "    print(\"El número\", n, \"tiene mayor longitud de Collatz con\", l1, \"largo.\")\n",
    "elif l1 < l2:\n",
    "    print(\"El número\", m, \"tiene mayor longitud de Collatz con\", l2, \"largo.\")\n",
    "else:\n",
    "    print(\"Los números\", n, \"y\", m, \"tienen igual longitud de Collatz con\", l2, \"y\", l1, \"largo.\")\n",
    "\n",
    "\n",
    "\n",
    "   \n",
    "\n",
    "    \n",
    "\n",
    "\n",
    "\n",
    "\n",
    "\n",
    "\n",
    "\n",
    "\n"
   ]
  }
 ],
 "metadata": {
  "kernelspec": {
   "display_name": "iteso",
   "language": "python",
   "name": "python3"
  },
  "language_info": {
   "codemirror_mode": {
    "name": "ipython",
    "version": 3
   },
   "file_extension": ".py",
   "mimetype": "text/x-python",
   "name": "python",
   "nbconvert_exporter": "python",
   "pygments_lexer": "ipython3",
   "version": "3.10.13"
  }
 },
 "nbformat": 4,
 "nbformat_minor": 2
}
