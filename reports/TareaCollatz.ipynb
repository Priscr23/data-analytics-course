{
 "cells": [
  {
   "cell_type": "code",
   "execution_count": 19,
   "metadata": {},
   "outputs": [
    {
     "name": "stdout",
     "output_type": "stream",
     "text": [
      " 10 es: [10, 5, 16, 8, 4, 2, 1]\n",
      "La secuencia más larga es para el número 9 con una longitud de 20:\n"
     ]
    }
   ],
   "source": [
    "n = int(input(\"Ingrese un número entero: \"))\n",
    "m = int(input(\"Ingrese un número entero mayor que n: \"))\n",
    "\n",
    "max_numero = 0\n",
    "max_largo = 0\n",
    "\n",
    "for num in range(n, m + 1):\n",
    "    numero = num\n",
    "    secuencia = [numero]\n",
    "\n",
    "    while numero != 1:\n",
    "        if numero % 2 == 0:\n",
    "            numero = numero // 2\n",
    "        else:\n",
    "            numero = 3 * numero + 1\n",
    "        secuencia.append(numero)\n",
    "\n",
    "    largo = len(secuencia)\n",
    "\n",
    "    if largo > max_largo:\n",
    "        max_largo = largo\n",
    "        max_numero = num\n",
    "\n",
    "    print(f\"Secuencia para el número {num} es: {secuencia}\")\n",
    "\n",
    "print(f\"\\nLa secuencia más larga es para el número {max_numero} con una longitud de {max_largo}.\")\n",
    "\n",
    "\n",
    "\n",
    "\n",
    "\n",
    "\n",
    "\n",
    "\n"
   ]
  }
 ],
 "metadata": {
  "kernelspec": {
   "display_name": "iteso",
   "language": "python",
   "name": "python3"
  },
  "language_info": {
   "codemirror_mode": {
    "name": "ipython",
    "version": 3
   },
   "file_extension": ".py",
   "mimetype": "text/x-python",
   "name": "python",
   "nbconvert_exporter": "python",
   "pygments_lexer": "ipython3",
   "version": "3.10.13"
  }
 },
 "nbformat": 4,
 "nbformat_minor": 2
}
