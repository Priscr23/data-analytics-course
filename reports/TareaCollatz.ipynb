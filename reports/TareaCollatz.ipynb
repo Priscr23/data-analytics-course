{
 "cells": [
  {
   "cell_type": "code",
   "execution_count": 6,
   "metadata": {},
   "outputs": [
    {
     "name": "stdout",
     "output_type": "stream",
     "text": [
      "Introduzca dos números: \n",
      "8 8\n",
      "4 4\n",
      "2 2\n",
      "1 1\n"
     ]
    }
   ],
   "source": [
    "def collatz(n):\n",
    "    secuencia = [n]\n",
    "    if n % 2 == 0:\n",
    "        numero = n // 2\n",
    "    elif n % 2 == 1:\n",
    "        numero = 3 * n + 1\n",
    "    else:\n",
    "        print(\"error\")\n",
    "    secuencia.append(numero)\n",
    "    len(secuencia)\n",
    "    return numero\n",
    "\n",
    "def longitud(secuencia):\n",
    "    return len(secuencia)\n",
    "\n",
    "print(\"Introduzca dos números: \")\n",
    "n = int(input())\n",
    "m = int(input())\n",
    "print(n,m)\n",
    "\n",
    "if n==1 and m == 1:\n",
    "    print(n,m)\n",
    "else:\n",
    "    while n != 1 and m != 1:\n",
    "        n = collatz(n)\n",
    "        m = collatz(m)\n",
    "        print(n,m)\n",
    "\n",
    "l1 = longitud(n)\n",
    "l2 = longitud(m)\n",
    "if l1>l2:\n",
    "    print(\"El número\", n ,\"tiene mayor longitud de Collatz con\", l1 ,\"largo.\")\n",
    "elif l1<l2:\n",
    "    print(\"El número\", m ,\"tiene mayor longitud de Collatz con\", l2 ,\"largo.\")\n",
    "else:\n",
    "    print(\"Los números\", n ,\"y\",m,\"tienen longitud igualn de Collatz con\", l2, \"y\",l1 ,\"largo.\")\n",
    "\n",
    "\n",
    "\n",
    "\n",
    "\n",
    "\n",
    "\n",
    "\n"
   ]
  }
 ],
 "metadata": {
  "kernelspec": {
   "display_name": "iteso",
   "language": "python",
   "name": "python3"
  },
  "language_info": {
   "codemirror_mode": {
    "name": "ipython",
    "version": 3
   },
   "file_extension": ".py",
   "mimetype": "text/x-python",
   "name": "python",
   "nbconvert_exporter": "python",
   "pygments_lexer": "ipython3",
   "version": "3.10.13"
  }
 },
 "nbformat": 4,
 "nbformat_minor": 2
}
