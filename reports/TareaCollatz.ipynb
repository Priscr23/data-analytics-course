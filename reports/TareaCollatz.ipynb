{
 "cells": [
  {
   "cell_type": "code",
   "execution_count": 7,
   "metadata": {},
   "outputs": [
    {
     "name": "stdout",
     "output_type": "stream",
     "text": [
      "Introduzca dos números: \n",
      "10 8\n",
      "5 4\n",
      "16 2\n",
      "8 1\n"
     ]
    },
    {
     "ename": "TypeError",
     "evalue": "object of type 'int' has no len()",
     "output_type": "error",
     "traceback": [
      "\u001b[1;31m---------------------------------------------------------------------------\u001b[0m",
      "\u001b[1;31mTypeError\u001b[0m                                 Traceback (most recent call last)",
      "Cell \u001b[1;32mIn[7], line 29\u001b[0m\n\u001b[0;32m     26\u001b[0m         m \u001b[38;5;241m=\u001b[39m collatz(m)\n\u001b[0;32m     27\u001b[0m         \u001b[38;5;28mprint\u001b[39m(n,m)\n\u001b[1;32m---> 29\u001b[0m l1 \u001b[38;5;241m=\u001b[39m \u001b[43mlongitud\u001b[49m\u001b[43m(\u001b[49m\u001b[43mn\u001b[49m\u001b[43m)\u001b[49m\n\u001b[0;32m     30\u001b[0m l2 \u001b[38;5;241m=\u001b[39m longitud(m)\n\u001b[0;32m     31\u001b[0m \u001b[38;5;28;01mif\u001b[39;00m l1\u001b[38;5;241m>\u001b[39ml2:\n",
      "Cell \u001b[1;32mIn[7], line 14\u001b[0m, in \u001b[0;36mlongitud\u001b[1;34m(secuencia)\u001b[0m\n\u001b[0;32m     13\u001b[0m \u001b[38;5;28;01mdef\u001b[39;00m \u001b[38;5;21mlongitud\u001b[39m(secuencia):\n\u001b[1;32m---> 14\u001b[0m     \u001b[38;5;28;01mreturn\u001b[39;00m \u001b[38;5;28;43mlen\u001b[39;49m\u001b[43m(\u001b[49m\u001b[43msecuencia\u001b[49m\u001b[43m)\u001b[49m\n",
      "\u001b[1;31mTypeError\u001b[0m: object of type 'int' has no len()"
     ]
    }
   ],
   "source": [
    "def collatz(n):\n",
    "    secuencia = [n]\n",
    "    while n != 1:\n",
    "        if n % 2 == 0:\n",
    "            n = n // 2\n",
    "        else:\n",
    "            n = 3 * n + 1\n",
    "        secuencia.append(n)\n",
    "    return secuencia\n",
    "\n",
    "def longitud(secuencia):\n",
    "    return len(secuencia)\n",
    "\n",
    "print(\"Introduzca dos números: \")\n",
    "n = int(input())\n",
    "m = int(input())\n",
    "print(n, m)\n",
    "\n",
    "if n == 1 and m == 1:\n",
    "    print(n, m)\n",
    "else:\n",
    "    while n != 1 and m != 1:\n",
    "        n = collatz(n)\n",
    "        m = collatz(m)\n",
    "        print(n, m)\n",
    "\n",
    "l1 = longitud(collatz(n))\n",
    "l2 = longitud(collatz(m))\n",
    "\n",
    "if l1 > l2:\n",
    "    print(\"El número\", n, \"tiene mayor longitud de Collatz con\", l1, \"largo.\")\n",
    "elif l1 < l2:\n",
    "    print(\"El número\", m, \"tiene mayor longitud de Collatz con\", l2, \"largo.\")\n",
    "else:\n",
    "    print(\"Los números\", n, \"y\", m, \"tienen longitud igual de Collatz con\", l2, \"y\", l1, \"largo.\")\n",
    "\n",
    "    \n",
    "\n",
    "\n",
    "\n",
    "\n",
    "\n",
    "\n",
    "\n",
    "\n"
   ]
  }
 ],
 "metadata": {
  "kernelspec": {
   "display_name": "iteso",
   "language": "python",
   "name": "python3"
  },
  "language_info": {
   "codemirror_mode": {
    "name": "ipython",
    "version": 3
   },
   "file_extension": ".py",
   "mimetype": "text/x-python",
   "name": "python",
   "nbconvert_exporter": "python",
   "pygments_lexer": "ipython3",
   "version": "3.10.13"
  }
 },
 "nbformat": 4,
 "nbformat_minor": 2
}
