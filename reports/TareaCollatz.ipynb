{
 "cells": [
  {
   "cell_type": "code",
   "execution_count": 2,
   "metadata": {},
   "outputs": [
    {
     "name": "stdout",
     "output_type": "stream",
     "text": [
      "Introduzca un número: \n",
      "5\n",
      "5\n",
      "16\n",
      "16\n",
      "8\n",
      "8\n",
      "4\n",
      "4\n",
      "2\n",
      "2\n",
      "1\n",
      "1\n"
     ]
    }
   ],
   "source": [
    "def collatz(n):\n",
    "    secuencia = [n]\n",
    "    if n % 2 == 0:\n",
    "        numero = n // 2\n",
    "    elif n % 2 == 1:\n",
    "        numero = 3 * n + 1\n",
    "    else:\n",
    "        print(\"error\")\n",
    "    secuencia.append(numero)\n",
    "    len(secuencia)\n",
    "    return numero\n",
    "\n",
    "\n",
    "print(\"Introduzca dos números: \")\n",
    "n = int(input())\n",
    "m = int(input)\n",
    "\n",
    "if n==1 and m == 1:\n",
    "    print(n,m)\n",
    "else:\n",
    "    while n != 1 and m != 1:\n",
    "        n = collatz(n)\n",
    "        m = collatz(m)\n",
    "        print(n,m)\n",
    "\n",
    "\n",
    "\n",
    "\n"
   ]
  }
 ],
 "metadata": {
  "kernelspec": {
   "display_name": "iteso",
   "language": "python",
   "name": "python3"
  },
  "language_info": {
   "codemirror_mode": {
    "name": "ipython",
    "version": 3
   },
   "file_extension": ".py",
   "mimetype": "text/x-python",
   "name": "python",
   "nbconvert_exporter": "python",
   "pygments_lexer": "ipython3",
   "version": "3.10.13"
  }
 },
 "nbformat": 4,
 "nbformat_minor": 2
}
