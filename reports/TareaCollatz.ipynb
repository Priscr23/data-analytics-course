{
 "cells": [
  {
   "cell_type": "code",
   "execution_count": 15,
   "metadata": {},
   "outputs": [
    {
     "name": "stdout",
     "output_type": "stream",
     "text": [
      "1 10\n",
      "Collatz sequence length for 1: 1\n",
      "Collatz sequence length for 2: 2\n",
      "Collatz sequence length for 3: 8\n",
      "Collatz sequence length for 4: 3\n",
      "Collatz sequence length for 5: 6\n",
      "Collatz sequence length for 6: 9\n",
      "Collatz sequence length for 7: 17\n",
      "Collatz sequence length for 8: 4\n",
      "Collatz sequence length for 9: 20\n",
      "Collatz sequence length for 10: 7\n",
      "\n",
      "El numero con mayor secuencia es 9 con un largo 20.\n"
     ]
    }
   ],
   "source": [
    "\n",
    "n=int(input(\"Ingrese un número entero: \"))\n",
    "m=int(input(\"Ingrese un número entero mayor que n: \"))\n",
    "\n",
    "max_numero = 0\n",
    "max_largo = 0\n",
    "\n",
    "for num in range(n,m+1):\n",
    "     numero = num\n",
    "     largo =0\n",
    "     while numero !=1:\n",
    "        if numero % 2 ==0:\n",
    "          numero = numero //2\n",
    "        else:\n",
    "          numero = 3*numero+1\n",
    "        largo +=1\n",
    "\n",
    "if largo > max_largo:\n",
    "        max_largo = largo\n",
    "        max_numero = num\n",
    "print(f\"{max_numero} es la secuencia más larga con una longitud de {max_largo}.\")\n",
    "\n",
    "             \n",
    "    \n",
    "\n",
    "\n",
    "\n",
    "\n",
    "\n",
    "    \n",
    "\n",
    "       \n",
    "\n",
    "\n",
    " \n",
    "\n",
    "\n",
    "\n",
    "\n",
    "   \n",
    "\n",
    "    \n",
    "\n",
    "\n",
    "\n",
    "\n",
    "\n",
    "\n",
    "\n",
    "\n"
   ]
  }
 ],
 "metadata": {
  "kernelspec": {
   "display_name": "iteso",
   "language": "python",
   "name": "python3"
  },
  "language_info": {
   "codemirror_mode": {
    "name": "ipython",
    "version": 3
   },
   "file_extension": ".py",
   "mimetype": "text/x-python",
   "name": "python",
   "nbconvert_exporter": "python",
   "pygments_lexer": "ipython3",
   "version": "3.10.13"
  }
 },
 "nbformat": 4,
 "nbformat_minor": 2
}
