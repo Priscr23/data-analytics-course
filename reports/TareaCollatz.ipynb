{
 "cells": [
  {
   "cell_type": "code",
   "execution_count": 1,
   "metadata": {},
   "outputs": [
    {
     "name": "stdout",
     "output_type": "stream",
     "text": [
      "Introduzca un número: \n"
     ]
    }
   ],
   "source": [
    "\n",
    "def collatz(n):\n",
    "    secuencia=[n]\n",
    "    len(secuencia)\n",
    "    if (n%2==0):\n",
    "        numero =n//2\n",
    "        print(numero)\n",
    "    elif (n%2==1):\n",
    "        numero= 3*n+1\n",
    "        print(numero)\n",
    "    else:\n",
    "        print(\"error\")\n",
    "    secuencia.append(n)\n",
    "print(\"Introduzca un número: \")\n",
    "numero=int(input())\n",
    "if numero ==1:\n",
    "    print(numero)\n",
    "else:\n",
    "    while (n !=1):\n",
    "        n=collatz(n)\n",
    "        print(n)\n",
    "\n",
    "\n",
    "\n"
   ]
  }
 ],
 "metadata": {
  "kernelspec": {
   "display_name": "iteso",
   "language": "python",
   "name": "python3"
  },
  "language_info": {
   "codemirror_mode": {
    "name": "ipython",
    "version": 3
   },
   "file_extension": ".py",
   "mimetype": "text/x-python",
   "name": "python",
   "nbconvert_exporter": "python",
   "pygments_lexer": "ipython3",
   "version": "3.10.13"
  }
 },
 "nbformat": 4,
 "nbformat_minor": 2
}
