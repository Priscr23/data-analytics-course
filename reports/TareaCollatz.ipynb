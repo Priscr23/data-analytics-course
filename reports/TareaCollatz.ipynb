{
 "cells": [
  {
   "cell_type": "code",
   "execution_count": 16,
   "metadata": {},
   "outputs": [
    {
     "name": "stdout",
     "output_type": "stream",
     "text": [
      "10 es la secuencia más larga con una longitud de 6.\n"
     ]
    }
   ],
   "source": [
    "n = int(input(\"Ingrese un número entero: \"))\n",
    "m = int(input(\"Ingrese un número entero mayor que n: \"))\n",
    "\n",
    "max_numero = 0\n",
    "max_largo = 0\n",
    "max_secuencia = []\n",
    "\n",
    "for num in range(n, m + 1):\n",
    "    numero = num\n",
    "    secuencia = [numero]\n",
    "\n",
    "    while numero != 1:\n",
    "        if numero % 2 == 0:\n",
    "            numero = numero // 2\n",
    "        else:\n",
    "            numero = 3 * numero + 1\n",
    "        secuencia.append(numero)\n",
    "\n",
    "    largo = len(secuencia)\n",
    "\n",
    "    if largo > max_largo:\n",
    "        max_largo = largo\n",
    "        max_numero = num\n",
    "        max_secuencia = secuencia\n",
    "\n",
    "print(f\"{max_numero} tiene la más larga secuencia con una longitud de {max_largo}:\")\n",
    "print(max_secuencia)\n",
    "\n",
    "\n",
    "\n",
    "\n"
   ]
  }
 ],
 "metadata": {
  "kernelspec": {
   "display_name": "iteso",
   "language": "python",
   "name": "python3"
  },
  "language_info": {
   "codemirror_mode": {
    "name": "ipython",
    "version": 3
   },
   "file_extension": ".py",
   "mimetype": "text/x-python",
   "name": "python",
   "nbconvert_exporter": "python",
   "pygments_lexer": "ipython3",
   "version": "3.10.13"
  }
 },
 "nbformat": 4,
 "nbformat_minor": 2
}
