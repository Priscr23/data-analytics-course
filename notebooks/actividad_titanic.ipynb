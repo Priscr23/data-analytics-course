{
 "cells": [
  {
   "cell_type": "markdown",
   "metadata": {},
   "source": [
    "# Actividad Titanic"
   ]
  },
  {
   "cell_type": "markdown",
   "metadata": {},
   "source": [
    "Priscila Cervantes\n",
    "\n",
    "\n",
    "Monica Ibarra"
   ]
  },
  {
   "cell_type": "code",
   "execution_count": 42,
   "metadata": {},
   "outputs": [],
   "source": [
    "import pandas as pd\n",
    "import matplotlib.pyplot as plt"
   ]
  },
  {
   "cell_type": "code",
   "execution_count": 3,
   "metadata": {},
   "outputs": [],
   "source": [
    "df = pd.read_csv('C:/Users/prisc/apps/data-analytics-course/data/raw/Titanic-Dataset.csv')"
   ]
  },
  {
   "cell_type": "code",
   "execution_count": 4,
   "metadata": {},
   "outputs": [
    {
     "data": {
      "text/html": [
       "<div>\n",
       "<style scoped>\n",
       "    .dataframe tbody tr th:only-of-type {\n",
       "        vertical-align: middle;\n",
       "    }\n",
       "\n",
       "    .dataframe tbody tr th {\n",
       "        vertical-align: top;\n",
       "    }\n",
       "\n",
       "    .dataframe thead th {\n",
       "        text-align: right;\n",
       "    }\n",
       "</style>\n",
       "<table border=\"1\" class=\"dataframe\">\n",
       "  <thead>\n",
       "    <tr style=\"text-align: right;\">\n",
       "      <th></th>\n",
       "      <th>Passenger_#</th>\n",
       "      <th>Survivor</th>\n",
       "      <th>P_class</th>\n",
       "      <th>Name</th>\n",
       "      <th>Sex</th>\n",
       "      <th>Age</th>\n",
       "      <th>#_siblings</th>\n",
       "      <th>Parch</th>\n",
       "      <th>Ticket</th>\n",
       "      <th>Fare</th>\n",
       "      <th>Cabin</th>\n",
       "      <th>Embarked</th>\n",
       "    </tr>\n",
       "  </thead>\n",
       "  <tbody>\n",
       "    <tr>\n",
       "      <th>0</th>\n",
       "      <td>1</td>\n",
       "      <td>0</td>\n",
       "      <td>3</td>\n",
       "      <td>Braund, Mr. Owen Harris</td>\n",
       "      <td>male</td>\n",
       "      <td>22.0</td>\n",
       "      <td>1</td>\n",
       "      <td>0</td>\n",
       "      <td>A/5 21171</td>\n",
       "      <td>7.2500</td>\n",
       "      <td>NaN</td>\n",
       "      <td>S</td>\n",
       "    </tr>\n",
       "    <tr>\n",
       "      <th>1</th>\n",
       "      <td>2</td>\n",
       "      <td>1</td>\n",
       "      <td>1</td>\n",
       "      <td>Cumings, Mrs. John Bradley (Florence Briggs Th...</td>\n",
       "      <td>female</td>\n",
       "      <td>38.0</td>\n",
       "      <td>1</td>\n",
       "      <td>0</td>\n",
       "      <td>PC 17599</td>\n",
       "      <td>71.2833</td>\n",
       "      <td>C85</td>\n",
       "      <td>C</td>\n",
       "    </tr>\n",
       "    <tr>\n",
       "      <th>2</th>\n",
       "      <td>3</td>\n",
       "      <td>1</td>\n",
       "      <td>3</td>\n",
       "      <td>Heikkinen, Miss. Laina</td>\n",
       "      <td>female</td>\n",
       "      <td>26.0</td>\n",
       "      <td>0</td>\n",
       "      <td>0</td>\n",
       "      <td>STON/O2. 3101282</td>\n",
       "      <td>7.9250</td>\n",
       "      <td>NaN</td>\n",
       "      <td>S</td>\n",
       "    </tr>\n",
       "    <tr>\n",
       "      <th>3</th>\n",
       "      <td>4</td>\n",
       "      <td>1</td>\n",
       "      <td>1</td>\n",
       "      <td>Futrelle, Mrs. Jacques Heath (Lily May Peel)</td>\n",
       "      <td>female</td>\n",
       "      <td>35.0</td>\n",
       "      <td>1</td>\n",
       "      <td>0</td>\n",
       "      <td>113803</td>\n",
       "      <td>53.1000</td>\n",
       "      <td>C123</td>\n",
       "      <td>S</td>\n",
       "    </tr>\n",
       "    <tr>\n",
       "      <th>4</th>\n",
       "      <td>5</td>\n",
       "      <td>0</td>\n",
       "      <td>3</td>\n",
       "      <td>Allen, Mr. William Henry</td>\n",
       "      <td>male</td>\n",
       "      <td>35.0</td>\n",
       "      <td>0</td>\n",
       "      <td>0</td>\n",
       "      <td>373450</td>\n",
       "      <td>8.0500</td>\n",
       "      <td>NaN</td>\n",
       "      <td>S</td>\n",
       "    </tr>\n",
       "    <tr>\n",
       "      <th>...</th>\n",
       "      <td>...</td>\n",
       "      <td>...</td>\n",
       "      <td>...</td>\n",
       "      <td>...</td>\n",
       "      <td>...</td>\n",
       "      <td>...</td>\n",
       "      <td>...</td>\n",
       "      <td>...</td>\n",
       "      <td>...</td>\n",
       "      <td>...</td>\n",
       "      <td>...</td>\n",
       "      <td>...</td>\n",
       "    </tr>\n",
       "    <tr>\n",
       "      <th>886</th>\n",
       "      <td>887</td>\n",
       "      <td>0</td>\n",
       "      <td>2</td>\n",
       "      <td>Montvila, Rev. Juozas</td>\n",
       "      <td>male</td>\n",
       "      <td>27.0</td>\n",
       "      <td>0</td>\n",
       "      <td>0</td>\n",
       "      <td>211536</td>\n",
       "      <td>13.0000</td>\n",
       "      <td>NaN</td>\n",
       "      <td>S</td>\n",
       "    </tr>\n",
       "    <tr>\n",
       "      <th>887</th>\n",
       "      <td>888</td>\n",
       "      <td>1</td>\n",
       "      <td>1</td>\n",
       "      <td>Graham, Miss. Margaret Edith</td>\n",
       "      <td>female</td>\n",
       "      <td>19.0</td>\n",
       "      <td>0</td>\n",
       "      <td>0</td>\n",
       "      <td>112053</td>\n",
       "      <td>30.0000</td>\n",
       "      <td>B42</td>\n",
       "      <td>S</td>\n",
       "    </tr>\n",
       "    <tr>\n",
       "      <th>888</th>\n",
       "      <td>889</td>\n",
       "      <td>0</td>\n",
       "      <td>3</td>\n",
       "      <td>Johnston, Miss. Catherine Helen \"Carrie\"</td>\n",
       "      <td>female</td>\n",
       "      <td>NaN</td>\n",
       "      <td>1</td>\n",
       "      <td>2</td>\n",
       "      <td>W./C. 6607</td>\n",
       "      <td>23.4500</td>\n",
       "      <td>NaN</td>\n",
       "      <td>S</td>\n",
       "    </tr>\n",
       "    <tr>\n",
       "      <th>889</th>\n",
       "      <td>890</td>\n",
       "      <td>1</td>\n",
       "      <td>1</td>\n",
       "      <td>Behr, Mr. Karl Howell</td>\n",
       "      <td>male</td>\n",
       "      <td>26.0</td>\n",
       "      <td>0</td>\n",
       "      <td>0</td>\n",
       "      <td>111369</td>\n",
       "      <td>30.0000</td>\n",
       "      <td>C148</td>\n",
       "      <td>C</td>\n",
       "    </tr>\n",
       "    <tr>\n",
       "      <th>890</th>\n",
       "      <td>891</td>\n",
       "      <td>0</td>\n",
       "      <td>3</td>\n",
       "      <td>Dooley, Mr. Patrick</td>\n",
       "      <td>male</td>\n",
       "      <td>32.0</td>\n",
       "      <td>0</td>\n",
       "      <td>0</td>\n",
       "      <td>370376</td>\n",
       "      <td>7.7500</td>\n",
       "      <td>NaN</td>\n",
       "      <td>Q</td>\n",
       "    </tr>\n",
       "  </tbody>\n",
       "</table>\n",
       "<p>891 rows × 12 columns</p>\n",
       "</div>"
      ],
      "text/plain": [
       "     Passenger_#  Survivor  P_class  \\\n",
       "0              1         0        3   \n",
       "1              2         1        1   \n",
       "2              3         1        3   \n",
       "3              4         1        1   \n",
       "4              5         0        3   \n",
       "..           ...       ...      ...   \n",
       "886          887         0        2   \n",
       "887          888         1        1   \n",
       "888          889         0        3   \n",
       "889          890         1        1   \n",
       "890          891         0        3   \n",
       "\n",
       "                                                  Name     Sex   Age  \\\n",
       "0                              Braund, Mr. Owen Harris    male  22.0   \n",
       "1    Cumings, Mrs. John Bradley (Florence Briggs Th...  female  38.0   \n",
       "2                               Heikkinen, Miss. Laina  female  26.0   \n",
       "3         Futrelle, Mrs. Jacques Heath (Lily May Peel)  female  35.0   \n",
       "4                             Allen, Mr. William Henry    male  35.0   \n",
       "..                                                 ...     ...   ...   \n",
       "886                              Montvila, Rev. Juozas    male  27.0   \n",
       "887                       Graham, Miss. Margaret Edith  female  19.0   \n",
       "888           Johnston, Miss. Catherine Helen \"Carrie\"  female   NaN   \n",
       "889                              Behr, Mr. Karl Howell    male  26.0   \n",
       "890                                Dooley, Mr. Patrick    male  32.0   \n",
       "\n",
       "     #_siblings  Parch            Ticket     Fare Cabin Embarked  \n",
       "0             1      0         A/5 21171   7.2500   NaN        S  \n",
       "1             1      0          PC 17599  71.2833   C85        C  \n",
       "2             0      0  STON/O2. 3101282   7.9250   NaN        S  \n",
       "3             1      0            113803  53.1000  C123        S  \n",
       "4             0      0            373450   8.0500   NaN        S  \n",
       "..          ...    ...               ...      ...   ...      ...  \n",
       "886           0      0            211536  13.0000   NaN        S  \n",
       "887           0      0            112053  30.0000   B42        S  \n",
       "888           1      2        W./C. 6607  23.4500   NaN        S  \n",
       "889           0      0            111369  30.0000  C148        C  \n",
       "890           0      0            370376   7.7500   NaN        Q  \n",
       "\n",
       "[891 rows x 12 columns]"
      ]
     },
     "execution_count": 4,
     "metadata": {},
     "output_type": "execute_result"
    }
   ],
   "source": [
    "df.columns = [\"Passenger_#\", \"Survivor\", \"P_class\", \"Name\", \"Sex\",\"Age\", \"#_siblings\", \"Parch\", \"Ticket\", \"Fare\",\"Cabin\",\"Embarked\"]\n",
    "df"
   ]
  },
  {
   "cell_type": "markdown",
   "metadata": {},
   "source": [
    "### ¿Cuántos pasajeros murieron y sobrevivieron?"
   ]
  },
  {
   "cell_type": "code",
   "execution_count": 17,
   "metadata": {},
   "outputs": [
    {
     "name": "stdout",
     "output_type": "stream",
     "text": [
      "No sobrevivieron: 549\n",
      "Sobrevivieron: 342\n"
     ]
    }
   ],
   "source": [
    "sobrevivientes = df['Survivor'].value_counts()\n",
    "no_sob = 0\n",
    "sob = 0\n",
    "\n",
    "for valor, cantidad in sobrevivientes.items():\n",
    "    if valor == 0:\n",
    "        no_sob = cantidad\n",
    "        print('No sobrevivieron:', no_sob)\n",
    "    else:\n",
    "        sob = cantidad\n",
    "        print('Sobrevivieron:', sob)"
   ]
  },
  {
   "cell_type": "markdown",
   "metadata": {},
   "source": [
    "### Cálculo de IQR"
   ]
  },
  {
   "cell_type": "code",
   "execution_count": 18,
   "metadata": {},
   "outputs": [
    {
     "name": "stdout",
     "output_type": "stream",
     "text": [
      "IQR:  23.0896\n"
     ]
    }
   ],
   "source": [
    "IQR = df.Fare.quantile(0.75)-df.Fare.quantile(0.25)\n",
    "print('IQR: ', IQR)"
   ]
  },
  {
   "cell_type": "markdown",
   "metadata": {},
   "source": [
    "### Cálculo del límite inferiror y superior"
   ]
  },
  {
   "cell_type": "code",
   "execution_count": 19,
   "metadata": {},
   "outputs": [
    {
     "name": "stdout",
     "output_type": "stream",
     "text": [
      "Lower: -26.724 Upper: 65.6344\n"
     ]
    }
   ],
   "source": [
    "lower = df.Fare.quantile(0.25)-1.5*IQR\n",
    "upper = df.Fare.quantile(0.75)+1.5*IQR\n",
    "print('Lower:',lower,'Upper:',upper)"
   ]
  },
  {
   "cell_type": "markdown",
   "metadata": {},
   "source": [
    "### Pasajeros que pagaron demasiado por el boleto \n",
    "$$\n",
    "\"Anomalías\"\n",
    "$$"
   ]
  },
  {
   "cell_type": "code",
   "execution_count": 46,
   "metadata": {},
   "outputs": [
    {
     "name": "stdout",
     "output_type": "stream",
     "text": [
      "Anomalía de precio: $ 71.2833 - Cumings, Mrs. John Bradley (Florence Briggs Thayer)\n",
      "Anomalía de precio: $ 263.0 - Fortune, Mr. Charles Alexander\n",
      "Anomalía de precio: $ 146.5208 - Spencer, Mrs. William Augustus (Marie Eugenie)\n",
      "Anomalía de precio: $ 82.1708 - Meyer, Mr. Edgar Joseph\n",
      "Anomalía de precio: $ 76.7292 - Harper, Mrs. Henry Sleeper (Myna Haxtun)\n",
      "Anomalía de precio: $ 80.0 - Icard, Miss. Amelie\n",
      "Anomalía de precio: $ 83.475 - Harris, Mr. Henry Birkhardt\n",
      "Anomalía de precio: $ 73.5 - Hood, Mr. Ambrose Jr\n",
      "Anomalía de precio: $ 263.0 - Fortune, Miss. Mabel Helen\n",
      "Anomalía de precio: $ 77.2875 - White, Mr. Richard Frasar\n",
      "Anomalía de precio: $ 247.5208 - Baxter, Mr. Quigg Edmond\n",
      "Anomalía de precio: $ 73.5 - Hickman, Mr. Stanley George\n",
      "Anomalía de precio: $ 77.2875 - White, Mr. Percival Wayland\n",
      "Anomalía de precio: $ 79.2 - Giglio, Mr. Victor\n",
      "Anomalía de precio: $ 66.6 - Pears, Mrs. Thomas (Edith Wearne)\n",
      "Anomalía de precio: $ 69.55 - Sage, Master. Thomas Henry\n",
      "Anomalía de precio: $ 69.55 - Sage, Miss. Constance Gladys\n",
      "Anomalía de precio: $ 146.5208 - Lurette, Miss. Elise\n",
      "Anomalía de precio: $ 69.55 - Sage, Mr. Frederick\n",
      "Anomalía de precio: $ 113.275 - Newell, Miss. Madeleine\n",
      "Anomalía de precio: $ 76.2917 - Bazzani, Miss. Albina\n",
      "Anomalía de precio: $ 90.0 - Hoyt, Mr. Frederick Maxfield\n",
      "Anomalía de precio: $ 83.475 - Harris, Mrs. Henry Birkhardt (Irene Wallach)\n",
      "Anomalía de precio: $ 90.0 - Minahan, Dr. William Edward\n",
      "Anomalía de precio: $ 79.2 - Thorne, Mrs. Gertrude Maybelle\n",
      "Anomalía de precio: $ 86.5 - Cherry, Miss. Gladys\n",
      "Anomalía de precio: $ 512.3292 - Ward, Miss. Anna\n",
      "Anomalía de precio: $ 79.65 - Taussig, Mr. Emil\n",
      "Anomalía de precio: $ 153.4625 - Graham, Mrs. William Thompson (Edith Junkins)\n",
      "Anomalía de precio: $ 135.6333 - Bissette, Miss. Amelia\n",
      "Anomalía de precio: $ 77.9583 - Andrews, Miss. Kornelia Theodosia\n",
      "Anomalía de precio: $ 78.85 - Barber, Miss. Ellen \"Nellie\"\n",
      "Anomalía de precio: $ 91.0792 - Bishop, Mrs. Dickinson H (Helen Walton)\n",
      "Anomalía de precio: $ 151.55 - Allison, Miss. Helen Loraine\n",
      "Anomalía de precio: $ 247.5208 - Baxter, Mrs. James (Helene DeLaudeniere Chaput)\n",
      "Anomalía de precio: $ 151.55 - Allison, Master. Hudson Trevor\n",
      "Anomalía de precio: $ 110.8833 - Fleming, Miss. Margaret\n",
      "Anomalía de precio: $ 108.9 - Penasco y Castellana, Mrs. Victor de Satode (Maria Josefa Perez de Soto y Vallejo)\n",
      "Anomalía de precio: $ 83.1583 - Hays, Miss. Margaret Bechstein\n",
      "Anomalía de precio: $ 262.375 - Ryerson, Miss. Emily Borie\n",
      "Anomalía de precio: $ 164.8667 - Wick, Miss. Mary Natalie\n",
      "Anomalía de precio: $ 134.5 - Spedden, Mrs. Frederic Oakley (Margaretta Corning Stone)\n",
      "Anomalía de precio: $ 69.55 - Sage, Mr. George John Jr\n",
      "Anomalía de precio: $ 135.6333 - Young, Miss. Marie Grice\n",
      "Anomalía de precio: $ 153.4625 - Graham, Mr. George Edward\n",
      "Anomalía de precio: $ 133.65 - Frauenthal, Mrs. Henry William (Clara Heinsheimer)\n",
      "Anomalía de precio: $ 66.6 - Pears, Mr. Thomas Clinton\n",
      "Anomalía de precio: $ 134.5 - Burns, Miss. Elizabeth Margaret\n",
      "Anomalía de precio: $ 263.0 - Fortune, Miss. Alice Elizabeth\n",
      "Anomalía de precio: $ 75.25 - Warren, Mrs. Frank Manley (Anna Sophia Atkinson)\n",
      "Anomalía de precio: $ 69.3 - Aubart, Mme. Leontine Pauline\n",
      "Anomalía de precio: $ 135.6333 - Ringhini, Mr. Sante\n",
      "Anomalía de precio: $ 82.1708 - Meyer, Mrs. Edgar Joseph (Leila Saks)\n",
      "Anomalía de precio: $ 211.5 - Widener, Mr. Harry Elkins\n",
      "Anomalía de precio: $ 227.525 - Bidois, Miss. Rosalie\n",
      "Anomalía de precio: $ 73.5 - Davies, Mr. Charles Henry\n",
      "Anomalía de precio: $ 120.0 - Carter, Mr. William Ernest\n",
      "Anomalía de precio: $ 113.275 - Newell, Miss. Marjorie\n",
      "Anomalía de precio: $ 90.0 - Minahan, Miss. Daisy E\n",
      "Anomalía de precio: $ 120.0 - Carter, Miss. Lucile Polk\n",
      "Anomalía de precio: $ 263.0 - Fortune, Mr. Mark\n",
      "Anomalía de precio: $ 81.8583 - Dodge, Master. Washington\n",
      "Anomalía de precio: $ 89.1042 - Goldenberg, Mr. Samuel L\n",
      "Anomalía de precio: $ 91.0792 - Bishop, Mr. Dickinson H\n",
      "Anomalía de precio: $ 90.0 - Hoyt, Mrs. Frederick Maxfield (Jane Anne Forby)\n",
      "Anomalía de precio: $ 78.2667 - Eustis, Miss. Elizabeth Mussey\n",
      "Anomalía de precio: $ 151.55 - Allison, Mrs. Hudson J C (Bessie Waldo Daniels)\n",
      "Anomalía de precio: $ 86.5 - Maioni, Miss. Roberta\n",
      "Anomalía de precio: $ 108.9 - Penasco y Castellana, Mr. Victor de Satode\n",
      "Anomalía de precio: $ 93.5 - Perreault, Miss. Anne\n",
      "Anomalía de precio: $ 221.7792 - Farthing, Mr. John\n",
      "Anomalía de precio: $ 106.425 - LeRoy, Miss. Bertha\n",
      "Anomalía de precio: $ 71.0 - Crosby, Miss. Harriet R\n",
      "Anomalía de precio: $ 106.425 - Douglas, Mr. Walter Donald\n",
      "Anomalía de precio: $ 110.8833 - Thayer, Mr. John Borland Jr\n",
      "Anomalía de precio: $ 227.525 - Robbins, Mr. Victor\n",
      "Anomalía de precio: $ 79.65 - Taussig, Mrs. Emil (Tillie Mandelbaum)\n",
      "Anomalía de precio: $ 110.8833 - Thayer, Mrs. John Borland (Marian Longstreth Morris)\n",
      "Anomalía de precio: $ 79.65 - Taussig, Miss. Ruth\n",
      "Anomalía de precio: $ 79.2 - Frolicher-Stehli, Mr. Maxmillian\n",
      "Anomalía de precio: $ 78.2667 - Stephenson, Mrs. Walter Bertram (Martha Eustis)\n",
      "Anomalía de precio: $ 153.4625 - Shutes, Miss. Elizabeth W\n",
      "Anomalía de precio: $ 77.9583 - Longley, Miss. Gretchen Fiske\n",
      "Anomalía de precio: $ 69.3 - Sagesser, Mlle. Emma\n",
      "Anomalía de precio: $ 76.7292 - Harper, Mr. Henry Sleeper\n",
      "Anomalía de precio: $ 73.5 - Hickman, Mr. Leonard Mark\n",
      "Anomalía de precio: $ 113.275 - Newell, Mr. Arthur Webster\n",
      "Anomalía de precio: $ 133.65 - Frauenthal, Dr. Henry William\n",
      "Anomalía de precio: $ 73.5 - Hickman, Mr. Lewis\n",
      "Anomalía de precio: $ 512.3292 - Cardeza, Mr. Thomas Drake Martinez\n",
      "Anomalía de precio: $ 76.7292 - Hassab, Mr. Hammad\n",
      "Anomalía de precio: $ 211.3375 - Madill, Miss. Georgette Alexandra\n",
      "Anomalía de precio: $ 110.8833 - Thayer, Mr. John Borland\n",
      "Anomalía de precio: $ 227.525 - Astor, Mrs. John Jacob (Madeleine Talmadge Force)\n",
      "Anomalía de precio: $ 151.55 - Cleaver, Miss. Alice\n",
      "Anomalía de precio: $ 227.525 - Endres, Miss. Caroline Louise\n",
      "Anomalía de precio: $ 211.3375 - Allen, Miss. Elisabeth Walton\n",
      "Anomalía de precio: $ 512.3292 - Lesurer, Mr. Gustave J\n",
      "Anomalía de precio: $ 78.85 - Cavendish, Mr. Tyrell William\n",
      "Anomalía de precio: $ 262.375 - Ryerson, Miss. Susan Parker \"Suzette\"\n",
      "Anomalía de precio: $ 71.0 - Crosby, Capt. Edward Gifford\n",
      "Anomalía de precio: $ 86.5 - Rothes, the Countess. of (Lucy Noel Martha Dyer-Edwards)\n",
      "Anomalía de precio: $ 120.0 - Carter, Mrs. William Ernest (Lucile Polk)\n",
      "Anomalía de precio: $ 77.9583 - Hogeboom, Mrs. John C (Anna Andrews)\n",
      "Anomalía de precio: $ 211.3375 - Robert, Mrs. Edward Scott (Elisabeth Walton McMillan)\n",
      "Anomalía de precio: $ 79.2 - Guggenheim, Mr. Benjamin\n",
      "Anomalía de precio: $ 69.55 - Sage, Miss. Stella Anna\n",
      "Anomalía de precio: $ 120.0 - Carter, Master. William Thornton II\n",
      "Anomalía de precio: $ 93.5 - Hays, Mrs. Charles Melville (Clara Jennings Gregg)\n",
      "Anomalía de precio: $ 80.0 - Stone, Mrs. George Nelson (Martha Evelyn)\n",
      "Anomalía de precio: $ 83.1583 - Compton, Miss. Sara Rebecca\n",
      "Anomalía de precio: $ 69.55 - Sage, Mr. Douglas Bullen\n",
      "Anomalía de precio: $ 89.1042 - Goldenberg, Mrs. Samuel L (Edwiga Grabowska)\n",
      "Anomalía de precio: $ 164.8667 - Wick, Mrs. George Dennick (Mary Hitchcock)\n",
      "Anomalía de precio: $ 69.55 - Sage, Miss. Dorothy Edith \"Dolly\"\n",
      "Anomalía de precio: $ 83.1583 - Potter, Mrs. Thomas Jr (Lily Alexenia Wilson)\n"
     ]
    }
   ],
   "source": [
    "anomalias_precios = []\n",
    "\n",
    "for x, precio in enumerate(df['Fare']):\n",
    "    if precio < lower or precio > upper:\n",
    "        anomalias_precios.append((precio, df.loc[x, 'Name']))\n",
    "for precio, nombre in anomalias_precios:\n",
    "    print('Anomalía de precio: $', precio, '-', nombre)\n",
    "\n"
   ]
  },
  {
   "cell_type": "code",
   "execution_count": 49,
   "metadata": {},
   "outputs": [
    {
     "name": "stdout",
     "output_type": "stream",
     "text": [
      "116\n"
     ]
    }
   ],
   "source": [
    "print(len(anomalias_precios))"
   ]
  },
  {
   "cell_type": "markdown",
   "metadata": {},
   "source": [
    "\"116 pasajeros pagaron más del promedio del costo de ticket\""
   ]
  },
  {
   "cell_type": "markdown",
   "metadata": {},
   "source": [
    "### Cálculo de promedio del costo del ticket"
   ]
  },
  {
   "cell_type": "code",
   "execution_count": 32,
   "metadata": {},
   "outputs": [
    {
     "name": "stdout",
     "output_type": "stream",
     "text": [
      "Promedio del costo del boleto es de: 32.204207968574636\n"
     ]
    }
   ],
   "source": [
    "promedio=df['Fare'].mean()\n",
    "print('Promedio del costo del boleto es de:',promedio)"
   ]
  },
  {
   "cell_type": "markdown",
   "metadata": {},
   "source": [
    "### Cálculo de la media del costo del ticket"
   ]
  },
  {
   "cell_type": "code",
   "execution_count": 33,
   "metadata": {},
   "outputs": [
    {
     "name": "stdout",
     "output_type": "stream",
     "text": [
      "La mediana del costo del boleto es de: 14.4542\n"
     ]
    }
   ],
   "source": [
    "mediana=df['Fare'].median()\n",
    "print('La mediana del costo del boleto es de:',mediana)"
   ]
  },
  {
   "cell_type": "markdown",
   "metadata": {},
   "source": [
    "### Cálculo de la moda del costo del ticket"
   ]
  },
  {
   "cell_type": "code",
   "execution_count": 35,
   "metadata": {},
   "outputs": [
    {
     "name": "stdout",
     "output_type": "stream",
     "text": [
      "La moda del costo del boleto es de: 8.05\n"
     ]
    }
   ],
   "source": [
    "moda=df['Fare'].mode()[0]\n",
    "print('La moda del costo del boleto es de:',moda)"
   ]
  },
  {
   "cell_type": "markdown",
   "metadata": {},
   "source": [
    "### Cálculo de la varianza de las edades"
   ]
  },
  {
   "cell_type": "code",
   "execution_count": 36,
   "metadata": {},
   "outputs": [
    {
     "name": "stdout",
     "output_type": "stream",
     "text": [
      "La varianza de las edades es de: 211.01912474630802\n"
     ]
    }
   ],
   "source": [
    "varianza=df['Age'].var()\n",
    "print('La varianza de las edades es de:',varianza)"
   ]
  },
  {
   "cell_type": "markdown",
   "metadata": {},
   "source": [
    "### Probabilidad de supervivencia entre un hombre de 70 y una mujer de 40 años"
   ]
  },
  {
   "cell_type": "code",
   "execution_count": 38,
   "metadata": {},
   "outputs": [
    {
     "name": "stdout",
     "output_type": "stream",
     "text": [
      "Tasa de supervivencia para hombres de 70 años: 0.0\n",
      "Tasa de supervivencia para mujeres de 40 años: 0.8333333333333334\n"
     ]
    }
   ],
   "source": [
    "H_70 = df[(df['Sex'] == 'male') & (df['Age'] == 70)]\n",
    "M_40 = df[(df['Sex'] == 'female') & (df['Age'] == 40)]\n",
    "Proba_H = H_70['Survivor'].mean()\n",
    "Proba_M = M_40['Survivor'].mean()\n",
    "print(\"Tasa de supervivencia para hombres de 70 años:\", Proba_H)\n",
    "print(\"Tasa de supervivencia para mujeres de 40 años:\", Proba_M)\n"
   ]
  },
  {
   "cell_type": "markdown",
   "metadata": {},
   "source": [
    "\n",
    "\"La mujer de 40 años tiene más probabilidad de sobrevivir que el hombre de 70 años.\""
   ]
  },
  {
   "cell_type": "markdown",
   "metadata": {},
   "source": [
    "### Distribución de las edades (sobrevivieron o no sobrevivieron)"
   ]
  },
  {
   "cell_type": "code",
   "execution_count": 40,
   "metadata": {},
   "outputs": [
    {
     "name": "stdout",
     "output_type": "stream",
     "text": [
      "Estadísticas de las edades para los pasajeros que sobrevivieron:\n",
      "count    290.000000\n",
      "mean      28.343690\n",
      "std       14.950952\n",
      "min        0.420000\n",
      "25%       19.000000\n",
      "50%       28.000000\n",
      "75%       36.000000\n",
      "max       80.000000\n",
      "Name: Age, dtype: float64\n",
      "\n",
      "Estadísticas de las edades para los pasajeros que no sobrevivieron:\n",
      "count    424.000000\n",
      "mean      30.626179\n",
      "std       14.172110\n",
      "min        1.000000\n",
      "25%       21.000000\n",
      "50%       28.000000\n",
      "75%       39.000000\n",
      "max       74.000000\n",
      "Name: Age, dtype: float64\n"
     ]
    }
   ],
   "source": [
    "sobrevivieron = df[df['Survivor'] == 1]['Age']\n",
    "info_sobrevivieron = sobrevivieron.describe()\n",
    "no_sobrevivieron = df[df['Survivor'] == 0]['Age']\n",
    "info_no_sobrevivieron = no_sobrevivieron.describe()\n",
    "print(\"Estadísticas de las edades para los pasajeros que sobrevivieron:\")\n",
    "print(info_sobrevivieron)\n",
    "\n",
    "print(\"\\nEstadísticas de las edades para los pasajeros que no sobrevivieron:\")\n",
    "print(info_no_sobrevivieron)\n"
   ]
  },
  {
   "cell_type": "code",
   "execution_count": 43,
   "metadata": {},
   "outputs": [
    {
     "data": {
      "image/png": "[encoded data removed]",
      "text/plain": [
       "<Figure size 640x480 with 1 Axes>"
      ]
     },
     "metadata": {},
     "output_type": "display_data"
    }
   ],
   "source": [
    "distribucion_edades = df.groupby('Survivor')['Age'].hist(alpha=0.6, bins=20)\n",
    "plt.legend(['No Sobrevivieron', 'Sobrevivieron'])\n",
    "plt.xlabel('Edad')\n",
    "plt.ylabel('Frecuencia')\n",
    "plt.title('Distribución de Edades de Pasajeros que Sobrevivieron y No Sobrevivieron')\n",
    "plt.show()\n"
   ]
  },
  {
   "cell_type": "markdown",
   "metadata": {},
   "source": [
    "### Distribución de género (sobrevivieron o no sobrevivieron)"
   ]
  },
  {
   "cell_type": "code",
   "execution_count": 44,
   "metadata": {},
   "outputs": [
    {
     "name": "stdout",
     "output_type": "stream",
     "text": [
      "Estadísticas de géneros para los pasajeros que sobrevivieron:\n",
      "count        342\n",
      "unique         2\n",
      "top       female\n",
      "freq         233\n",
      "Name: Sex, dtype: object\n",
      "\n",
      "Estadísticas de géneros para los pasajeros que no sobrevivieron:\n",
      "count      549\n",
      "unique       2\n",
      "top       male\n",
      "freq       468\n",
      "Name: Sex, dtype: object\n"
     ]
    }
   ],
   "source": [
    "sobrevivieron = df[df['Survivor'] == 1]['Sex']\n",
    "info_sobrevivieron = sobrevivieron.describe()\n",
    "no_sobrevivieron = df[df['Survivor'] == 0]['Sex']\n",
    "info_no_sobrevivieron = no_sobrevivieron.describe()\n",
    "print(\"Estadísticas de géneros para los pasajeros que sobrevivieron:\")\n",
    "print(info_sobrevivieron)\n",
    "\n",
    "print(\"\\nEstadísticas de géneros para los pasajeros que no sobrevivieron:\")\n",
    "print(info_no_sobrevivieron)"
   ]
  },
  {
   "cell_type": "code",
   "execution_count": 45,
   "metadata": {},
   "outputs": [
    {
     "data": {
      "image/png": "[encoded data removed]",
      "text/plain": [
       "<Figure size 640x480 with 1 Axes>"
      ]
     },
     "metadata": {},
     "output_type": "display_data"
    }
   ],
   "source": [
    "distribucion_género = df.groupby('Survivor')['Sex'].hist(alpha=0.6, bins=20)\n",
    "plt.legend(['No Sobrevivieron', 'Sobrevivieron'])\n",
    "plt.xlabel('Género')\n",
    "plt.ylabel('Frecuencia')\n",
    "plt.title('Distribución de género de Pasajeros que Sobrevivieron y No Sobrevivieron')\n",
    "plt.show()"
   ]
  }
 ],
 "metadata": {
  "kernelspec": {
   "display_name": "iteso",
   "language": "python",
   "name": "python3"
  },
  "language_info": {
   "codemirror_mode": {
    "name": "ipython",
    "version": 3
   },
   "file_extension": ".py",
   "mimetype": "text/x-python",
   "name": "python",
   "nbconvert_exporter": "python",
   "pygments_lexer": "ipython3",
   "version": "3.10.13"
  }
 },
 "nbformat": 4,
 "nbformat_minor": 2
}
