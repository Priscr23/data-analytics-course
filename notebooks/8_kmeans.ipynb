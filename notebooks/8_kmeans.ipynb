{
 "cells": [
  {
   "cell_type": "markdown",
   "id": "3f4a7791",
   "metadata": {},
   "source": [
    "# KMeans from Scratch\n",
    "\n",
    "Machine Learning Class at ITESO - 2023"
   ]
  },
  {
   "cell_type": "code",
   "execution_count": 22,
   "id": "cfee57c6",
   "metadata": {},
   "outputs": [],
   "source": [
    "from sklearn.datasets import make_blobs\n",
    "import pandas as pd\n",
    "import numpy as np\n",
    "import matplotlib.pyplot as plt"
   ]
  },
  {
   "cell_type": "markdown",
   "id": "b229d336",
   "metadata": {},
   "source": [
    "## Create Data"
   ]
  },
  {
   "cell_type": "code",
   "execution_count": 23,
   "id": "00e67b91",
   "metadata": {},
   "outputs": [],
   "source": [
    "# create fake data\n",
    "X, y = make_blobs(n_samples = 100, centers = 3, n_features = 2, random_state = 42, cluster_std = 2)"
   ]
  },
  {
   "cell_type": "code",
   "execution_count": 24,
   "id": "86b9f001",
   "metadata": {},
   "outputs": [
    {
     "data": {
      "text/plain": [
       "{0, 1, 2}"
      ]
     },
     "execution_count": 24,
     "metadata": {},
     "output_type": "execute_result"
    }
   ],
   "source": [
    "set(y)"
   ]
  },
  {
   "cell_type": "code",
   "execution_count": 25,
   "id": "d8099322",
   "metadata": {},
   "outputs": [
    {
     "data": {
      "text/html": [
       "<div>\n",
       "<style scoped>\n",
       "    .dataframe tbody tr th:only-of-type {\n",
       "        vertical-align: middle;\n",
       "    }\n",
       "\n",
       "    .dataframe tbody tr th {\n",
       "        vertical-align: top;\n",
       "    }\n",
       "\n",
       "    .dataframe thead th {\n",
       "        text-align: right;\n",
       "    }\n",
       "</style>\n",
       "<table border=\"1\" class=\"dataframe\">\n",
       "  <thead>\n",
       "    <tr style=\"text-align: right;\">\n",
       "      <th></th>\n",
       "      <th>class</th>\n",
       "      <th>x1</th>\n",
       "      <th>x2</th>\n",
       "    </tr>\n",
       "  </thead>\n",
       "  <tbody>\n",
       "    <tr>\n",
       "      <th>0</th>\n",
       "      <td>2</td>\n",
       "      <td>-8.573215</td>\n",
       "      <td>-9.909804</td>\n",
       "    </tr>\n",
       "    <tr>\n",
       "      <th>1</th>\n",
       "      <td>1</td>\n",
       "      <td>6.266913</td>\n",
       "      <td>-0.488559</td>\n",
       "    </tr>\n",
       "    <tr>\n",
       "      <th>2</th>\n",
       "      <td>0</td>\n",
       "      <td>-3.448146</td>\n",
       "      <td>10.099406</td>\n",
       "    </tr>\n",
       "    <tr>\n",
       "      <th>3</th>\n",
       "      <td>1</td>\n",
       "      <td>7.445467</td>\n",
       "      <td>-0.830532</td>\n",
       "    </tr>\n",
       "    <tr>\n",
       "      <th>4</th>\n",
       "      <td>2</td>\n",
       "      <td>-6.164052</td>\n",
       "      <td>-5.758541</td>\n",
       "    </tr>\n",
       "    <tr>\n",
       "      <th>...</th>\n",
       "      <td>...</td>\n",
       "      <td>...</td>\n",
       "      <td>...</td>\n",
       "    </tr>\n",
       "    <tr>\n",
       "      <th>95</th>\n",
       "      <td>0</td>\n",
       "      <td>-3.863042</td>\n",
       "      <td>10.237639</td>\n",
       "    </tr>\n",
       "    <tr>\n",
       "      <th>96</th>\n",
       "      <td>0</td>\n",
       "      <td>-0.447199</td>\n",
       "      <td>10.876846</td>\n",
       "    </tr>\n",
       "    <tr>\n",
       "      <th>97</th>\n",
       "      <td>1</td>\n",
       "      <td>4.317307</td>\n",
       "      <td>2.781271</td>\n",
       "    </tr>\n",
       "    <tr>\n",
       "      <th>98</th>\n",
       "      <td>2</td>\n",
       "      <td>-4.713525</td>\n",
       "      <td>-4.772505</td>\n",
       "    </tr>\n",
       "    <tr>\n",
       "      <th>99</th>\n",
       "      <td>0</td>\n",
       "      <td>-4.187633</td>\n",
       "      <td>8.395861</td>\n",
       "    </tr>\n",
       "  </tbody>\n",
       "</table>\n",
       "<p>100 rows × 3 columns</p>\n",
       "</div>"
      ],
      "text/plain": [
       "    class        x1         x2\n",
       "0       2 -8.573215  -9.909804\n",
       "1       1  6.266913  -0.488559\n",
       "2       0 -3.448146  10.099406\n",
       "3       1  7.445467  -0.830532\n",
       "4       2 -6.164052  -5.758541\n",
       "..    ...       ...        ...\n",
       "95      0 -3.863042  10.237639\n",
       "96      0 -0.447199  10.876846\n",
       "97      1  4.317307   2.781271\n",
       "98      2 -4.713525  -4.772505\n",
       "99      0 -4.187633   8.395861\n",
       "\n",
       "[100 rows x 3 columns]"
      ]
     },
     "execution_count": 25,
     "metadata": {},
     "output_type": "execute_result"
    }
   ],
   "source": [
    "df = pd.DataFrame()\n",
    "df['class'] = y\n",
    "df['x1'] = X[:, 0]\n",
    "df['x2'] = X[:, 1]\n",
    "df"
   ]
  },
  {
   "cell_type": "code",
   "execution_count": 26,
   "id": "ff5295fc",
   "metadata": {},
   "outputs": [
    {
     "data": {
      "text/plain": [
       "<Axes: xlabel='x1', ylabel='x2'>"
      ]
     },
     "execution_count": 26,
     "metadata": {},
     "output_type": "execute_result"
    },
    {
     "data": {
      "image/png": "[encoded data removed]",
      "text/plain": [
       "<Figure size 500x500 with 1 Axes>"
      ]
     },
     "metadata": {},
     "output_type": "display_data"
    }
   ],
   "source": [
    "import seaborn as sns\n",
    "\n",
    "plt.figure(figsize=(5,5))\n",
    "sns.scatterplot(x = 'x1', y = 'x2', hue = 'class', data = df, legend = 'full', palette = 'tab20')"
   ]
  },
  {
   "cell_type": "markdown",
   "id": "9e84ba53",
   "metadata": {},
   "source": [
    "# Algorithm\n"
   ]
  },
  {
   "cell_type": "markdown",
   "id": "249493dd",
   "metadata": {},
   "source": [
    "## Step 1\n",
    "Randomly pick 𝒌 data points as our initial Centroids."
   ]
  },
  {
   "cell_type": "code",
   "execution_count": 27,
   "id": "1fd97473",
   "metadata": {},
   "outputs": [
    {
     "data": {
      "text/plain": [
       "array([54, 77, 48])"
      ]
     },
     "execution_count": 27,
     "metadata": {},
     "output_type": "execute_result"
    }
   ],
   "source": [
    "k = 3\n",
    "n_samples, _ =X.shape\n",
    "idx = np.random.choice(n_samples, k)\n",
    "centroids = X[idx, :]\n",
    "idx"
   ]
  },
  {
   "cell_type": "markdown",
   "id": "eced2bbc",
   "metadata": {},
   "source": [
    "## Step 2\n",
    "Find the distance between each data points in our training set with the 𝒌 centroids.\n"
   ]
  },
  {
   "cell_type": "code",
   "execution_count": 28,
   "id": "c87763db",
   "metadata": {},
   "outputs": [
    {
     "data": {
      "text/plain": [
       "array([[ 7.59588367,  1.95685652,  6.18078831],\n",
       "       [11.79216221, 15.65512569, 13.57534902],\n",
       "       [13.30651732, 19.54859216, 14.4786414 ],\n",
       "       [12.88008564, 16.47323175, 14.64033341],\n",
       "       [ 2.82875791,  3.45978489,  1.91403112]])"
      ]
     },
     "execution_count": 28,
     "metadata": {},
     "output_type": "execute_result"
    }
   ],
   "source": [
    "from scipy.spatial.distance import cdist\n",
    "distances = cdist(X, centroids)\n",
    "distances[0:5]"
   ]
  },
  {
   "cell_type": "markdown",
   "id": "3edc850b",
   "metadata": {},
   "source": [
    "## Step 3\n",
    "Now assign each data point to the closest centroid"
   ]
  },
  {
   "cell_type": "code",
   "execution_count": 29,
   "id": "164186c9",
   "metadata": {},
   "outputs": [
    {
     "data": {
      "text/plain": [
       "array([1, 0, 0, 0, 2, 0, 0, 0, 0, 0, 0, 2, 2, 0, 0, 2, 2, 0, 2, 1, 0, 2,\n",
       "       2, 0, 0, 0, 0, 1, 2, 1, 2, 0, 0, 1, 0, 0, 0, 0, 0, 0, 1, 0, 0, 0,\n",
       "       0, 0, 2, 2, 2, 0, 0, 0, 0, 2, 0, 2, 0, 0, 0, 0, 1, 0, 1, 0, 2, 1,\n",
       "       0, 1, 0, 0, 0, 2, 2, 0, 0, 2, 0, 1, 0, 0, 0, 0, 0, 0, 0, 0, 0, 0,\n",
       "       0, 0, 0, 0, 0, 0, 0, 0, 0, 0, 0, 0], dtype=int64)"
      ]
     },
     "execution_count": 29,
     "metadata": {},
     "output_type": "execute_result"
    }
   ],
   "source": [
    "points = np.argmin(distances, axis=1)\n",
    "points"
   ]
  },
  {
   "cell_type": "markdown",
   "id": "311bd866",
   "metadata": {},
   "source": [
    "## Step 4\n",
    "Update centroid location by taking the average of the points in each cluster group.\n"
   ]
  },
  {
   "cell_type": "code",
   "execution_count": 30,
   "id": "905e0315",
   "metadata": {},
   "outputs": [],
   "source": [
    "temp_centroids = []\n",
    "\n",
    "for cluster in range(k):\n",
    "   \n",
    "    temp_cluster_centroid = np.mean(X[points == cluster], axis=0)\n",
    "    temp_centroids.append(temp_cluster_centroid)\n",
    "\n",
    "temp_centroids = np.array(temp_centroids)"
   ]
  },
  {
   "cell_type": "markdown",
   "id": "dbbc2b15",
   "metadata": {},
   "source": [
    "# Step 5\n",
    "Centroid change? Convergence"
   ]
  },
  {
   "cell_type": "code",
   "execution_count": 31,
   "id": "01570591",
   "metadata": {},
   "outputs": [
    {
     "data": {
      "text/plain": [
       "(array([[-5.23550687, -3.08652363],\n",
       "        [-6.76320975, -9.16605019],\n",
       "        [-6.85362341, -3.97304144]]),\n",
       " array([[ 0.49509431,  5.00298078],\n",
       "        [-7.20207098, -8.73400134],\n",
       "        [-7.34027615, -5.45901039]]))"
      ]
     },
     "execution_count": 31,
     "metadata": {},
     "output_type": "execute_result"
    }
   ],
   "source": [
    "centroids, temp_centroids"
   ]
  },
  {
   "cell_type": "code",
   "execution_count": 32,
   "id": "247f01fc",
   "metadata": {},
   "outputs": [
    {
     "name": "stdout",
     "output_type": "stream",
     "text": [
      "Not Done\n"
     ]
    }
   ],
   "source": [
    "# Step 5\n",
    "if ( (centroids == temp_centroids).all() ):\n",
    "    print(\"Done\")\n",
    "else:\n",
    "    print(\"Not Done\")\n",
    "    centroids = temp_centroids"
   ]
  },
  {
   "cell_type": "markdown",
   "id": "b297ad04",
   "metadata": {},
   "source": [
    "# All together"
   ]
  },
  {
   "cell_type": "code",
   "execution_count": 33,
   "id": "969ccc27",
   "metadata": {},
   "outputs": [],
   "source": [
    "def kmeans(X, k):\n",
    "    k = 3\n",
    "    n_samples, _ =X.shape\n",
    "    idx = np.random.choice(n_samples, k, replace=False)\n",
    "    centroids = X[idx, :]\n",
    "    idx\n",
    "    \n",
    "    while True:\n",
    "        distances = cdist(X, centroids)\n",
    "        distances[0:5]\n",
    "\n",
    "        points = np.argmin(distances, axis=1)\n",
    "        points\n",
    "\n",
    "        temp_centroids = []\n",
    "\n",
    "        for cluster in range(k):\n",
    "   \n",
    "            temp_cluster_centroid = np.mean(X[points == cluster], axis=0)\n",
    "            temp_centroids.append(temp_cluster_centroid)\n",
    "\n",
    "        temp_centroids = np.array(temp_centroids)\n",
    "\n",
    "        # Step 5\n",
    "        if ( (centroids == temp_centroids).all() ):\n",
    "            # Done\n",
    "            return points, centroids\n",
    "\n",
    "        else:\n",
    "            centroids = temp_centroids"
   ]
  },
  {
   "cell_type": "code",
   "execution_count": 34,
   "id": "ed5eb81a",
   "metadata": {},
   "outputs": [],
   "source": [
    "k = 2\n",
    "points, centroids = kmeans(X, k)"
   ]
  },
  {
   "cell_type": "code",
   "execution_count": 35,
   "id": "af0101d8",
   "metadata": {},
   "outputs": [
    {
     "data": {
      "text/plain": [
       "array([[-2.82641022,  8.85723525],\n",
       "       [ 4.35914117,  1.90467057],\n",
       "       [-7.02379204, -6.47232379]])"
      ]
     },
     "execution_count": 35,
     "metadata": {},
     "output_type": "execute_result"
    }
   ],
   "source": [
    "centroids"
   ]
  },
  {
   "cell_type": "code",
   "execution_count": 36,
   "id": "3328ea8a",
   "metadata": {},
   "outputs": [
    {
     "data": {
      "text/plain": [
       "<matplotlib.legend.Legend at 0x1a9f0278940>"
      ]
     },
     "execution_count": 36,
     "metadata": {},
     "output_type": "execute_result"
    },
    {
     "data": {
      "image/png": "[encoded data removed]",
      "text/plain": [
       "<Figure size 800x500 with 1 Axes>"
      ]
     },
     "metadata": {},
     "output_type": "display_data"
    }
   ],
   "source": [
    "df = pd.DataFrame()\n",
    "df['cluster'] = points\n",
    "df['x1'] = X[:, 0]\n",
    "df['x2'] = X[:, 1]\n",
    "\n",
    "# plot\n",
    "plt.figure(figsize=(8,5))\n",
    "sns.scatterplot(x = 'x1', y = 'x2', hue = 'cluster', data = df, legend = 'full', palette = 'tab20')\n",
    "plt.scatter(centroids[:, 0], centroids[:, 1], c = 'r', label = 'Centroids')\n",
    "plt.legend()"
   ]
  },
  {
   "cell_type": "markdown",
   "id": "4166d930",
   "metadata": {},
   "source": [
    "# The Elbow Method + Sklearn"
   ]
  },
  {
   "cell_type": "code",
   "execution_count": 37,
   "id": "5a36cd13",
   "metadata": {},
   "outputs": [
    {
     "name": "stderr",
     "output_type": "stream",
     "text": [
      "c:\\Users\\prisc\\anaconda3\\envs\\iteso\\lib\\site-packages\\sklearn\\cluster\\_kmeans.py:1412: FutureWarning: The default value of `n_init` will change from 10 to 'auto' in 1.4. Set the value of `n_init` explicitly to suppress the warning\n",
      "  super()._check_params_vs_input(X, default_n_init=10)\n",
      "c:\\Users\\prisc\\anaconda3\\envs\\iteso\\lib\\site-packages\\sklearn\\cluster\\_kmeans.py:1436: UserWarning: KMeans is known to have a memory leak on Windows with MKL, when there are less chunks than available threads. You can avoid it by setting the environment variable OMP_NUM_THREADS=1.\n",
      "  warnings.warn(\n"
     ]
    }
   ],
   "source": [
    "from sklearn.cluster import KMeans\n",
    "\n",
    "k = 2\n",
    "kmeans = KMeans(n_clusters = k, random_state  = 42).fit(X)"
   ]
  },
  {
   "cell_type": "code",
   "execution_count": 38,
   "id": "e855a3b8",
   "metadata": {},
   "outputs": [
    {
     "name": "stdout",
     "output_type": "stream",
     "text": [
      "Points:  [1 0 0 0 1 0 0 0 0 0 0 1 1 0 0 1 1 0 1 1 0 1 1 0 0 0 0 1 1 1 1 0 0 1 0 0 0\n",
      " 0 0 0 1 0 0 0 0 0 1 1 1 0 0 0 0 1 1 1 0 0 0 0 1 0 1 0 1 1 0 1 0 0 0 1 1 0\n",
      " 0 1 0 1 0 0 0 0 0 1 0 0 0 0 0 0 0 0 0 0 0 0 0 0 1 0]\n"
     ]
    }
   ],
   "source": [
    "print(\"Points: \", kmeans.labels_)\n",
    "# print(\"Centroids: \", kmeans.cluster_centers_[0])"
   ]
  },
  {
   "cell_type": "code",
   "execution_count": 39,
   "id": "4c271cf0",
   "metadata": {},
   "outputs": [
    {
     "name": "stdout",
     "output_type": "stream",
     "text": [
      "Score:  2361.773515175247\n",
      "Score:  -2361.7735151752468\n"
     ]
    }
   ],
   "source": [
    "print(\"Score: \", kmeans.inertia_)\n",
    "print(\"Score: \", kmeans.score(X))"
   ]
  },
  {
   "cell_type": "code",
   "execution_count": 40,
   "id": "46c13439",
   "metadata": {},
   "outputs": [
    {
     "name": "stderr",
     "output_type": "stream",
     "text": [
      "c:\\Users\\prisc\\anaconda3\\envs\\iteso\\lib\\site-packages\\sklearn\\cluster\\_kmeans.py:1412: FutureWarning: The default value of `n_init` will change from 10 to 'auto' in 1.4. Set the value of `n_init` explicitly to suppress the warning\n",
      "  super()._check_params_vs_input(X, default_n_init=10)\n",
      "c:\\Users\\prisc\\anaconda3\\envs\\iteso\\lib\\site-packages\\sklearn\\cluster\\_kmeans.py:1436: UserWarning: KMeans is known to have a memory leak on Windows with MKL, when there are less chunks than available threads. You can avoid it by setting the environment variable OMP_NUM_THREADS=1.\n",
      "  warnings.warn(\n",
      "c:\\Users\\prisc\\anaconda3\\envs\\iteso\\lib\\site-packages\\sklearn\\cluster\\_kmeans.py:1412: FutureWarning: The default value of `n_init` will change from 10 to 'auto' in 1.4. Set the value of `n_init` explicitly to suppress the warning\n",
      "  super()._check_params_vs_input(X, default_n_init=10)\n",
      "c:\\Users\\prisc\\anaconda3\\envs\\iteso\\lib\\site-packages\\sklearn\\cluster\\_kmeans.py:1436: UserWarning: KMeans is known to have a memory leak on Windows with MKL, when there are less chunks than available threads. You can avoid it by setting the environment variable OMP_NUM_THREADS=1.\n",
      "  warnings.warn(\n",
      "c:\\Users\\prisc\\anaconda3\\envs\\iteso\\lib\\site-packages\\sklearn\\cluster\\_kmeans.py:1412: FutureWarning: The default value of `n_init` will change from 10 to 'auto' in 1.4. Set the value of `n_init` explicitly to suppress the warning\n",
      "  super()._check_params_vs_input(X, default_n_init=10)\n",
      "c:\\Users\\prisc\\anaconda3\\envs\\iteso\\lib\\site-packages\\sklearn\\cluster\\_kmeans.py:1436: UserWarning: KMeans is known to have a memory leak on Windows with MKL, when there are less chunks than available threads. You can avoid it by setting the environment variable OMP_NUM_THREADS=1.\n",
      "  warnings.warn(\n",
      "c:\\Users\\prisc\\anaconda3\\envs\\iteso\\lib\\site-packages\\sklearn\\cluster\\_kmeans.py:1412: FutureWarning: The default value of `n_init` will change from 10 to 'auto' in 1.4. Set the value of `n_init` explicitly to suppress the warning\n",
      "  super()._check_params_vs_input(X, default_n_init=10)\n",
      "c:\\Users\\prisc\\anaconda3\\envs\\iteso\\lib\\site-packages\\sklearn\\cluster\\_kmeans.py:1436: UserWarning: KMeans is known to have a memory leak on Windows with MKL, when there are less chunks than available threads. You can avoid it by setting the environment variable OMP_NUM_THREADS=1.\n",
      "  warnings.warn(\n",
      "c:\\Users\\prisc\\anaconda3\\envs\\iteso\\lib\\site-packages\\sklearn\\cluster\\_kmeans.py:1412: FutureWarning: The default value of `n_init` will change from 10 to 'auto' in 1.4. Set the value of `n_init` explicitly to suppress the warning\n",
      "  super()._check_params_vs_input(X, default_n_init=10)\n",
      "c:\\Users\\prisc\\anaconda3\\envs\\iteso\\lib\\site-packages\\sklearn\\cluster\\_kmeans.py:1436: UserWarning: KMeans is known to have a memory leak on Windows with MKL, when there are less chunks than available threads. You can avoid it by setting the environment variable OMP_NUM_THREADS=1.\n",
      "  warnings.warn(\n",
      "c:\\Users\\prisc\\anaconda3\\envs\\iteso\\lib\\site-packages\\sklearn\\cluster\\_kmeans.py:1412: FutureWarning: The default value of `n_init` will change from 10 to 'auto' in 1.4. Set the value of `n_init` explicitly to suppress the warning\n",
      "  super()._check_params_vs_input(X, default_n_init=10)\n",
      "c:\\Users\\prisc\\anaconda3\\envs\\iteso\\lib\\site-packages\\sklearn\\cluster\\_kmeans.py:1436: UserWarning: KMeans is known to have a memory leak on Windows with MKL, when there are less chunks than available threads. You can avoid it by setting the environment variable OMP_NUM_THREADS=1.\n",
      "  warnings.warn(\n",
      "c:\\Users\\prisc\\anaconda3\\envs\\iteso\\lib\\site-packages\\sklearn\\cluster\\_kmeans.py:1412: FutureWarning: The default value of `n_init` will change from 10 to 'auto' in 1.4. Set the value of `n_init` explicitly to suppress the warning\n",
      "  super()._check_params_vs_input(X, default_n_init=10)\n",
      "c:\\Users\\prisc\\anaconda3\\envs\\iteso\\lib\\site-packages\\sklearn\\cluster\\_kmeans.py:1436: UserWarning: KMeans is known to have a memory leak on Windows with MKL, when there are less chunks than available threads. You can avoid it by setting the environment variable OMP_NUM_THREADS=1.\n",
      "  warnings.warn(\n",
      "c:\\Users\\prisc\\anaconda3\\envs\\iteso\\lib\\site-packages\\sklearn\\cluster\\_kmeans.py:1412: FutureWarning: The default value of `n_init` will change from 10 to 'auto' in 1.4. Set the value of `n_init` explicitly to suppress the warning\n",
      "  super()._check_params_vs_input(X, default_n_init=10)\n",
      "c:\\Users\\prisc\\anaconda3\\envs\\iteso\\lib\\site-packages\\sklearn\\cluster\\_kmeans.py:1436: UserWarning: KMeans is known to have a memory leak on Windows with MKL, when there are less chunks than available threads. You can avoid it by setting the environment variable OMP_NUM_THREADS=1.\n",
      "  warnings.warn(\n",
      "c:\\Users\\prisc\\anaconda3\\envs\\iteso\\lib\\site-packages\\sklearn\\cluster\\_kmeans.py:1412: FutureWarning: The default value of `n_init` will change from 10 to 'auto' in 1.4. Set the value of `n_init` explicitly to suppress the warning\n",
      "  super()._check_params_vs_input(X, default_n_init=10)\n",
      "c:\\Users\\prisc\\anaconda3\\envs\\iteso\\lib\\site-packages\\sklearn\\cluster\\_kmeans.py:1436: UserWarning: KMeans is known to have a memory leak on Windows with MKL, when there are less chunks than available threads. You can avoid it by setting the environment variable OMP_NUM_THREADS=1.\n",
      "  warnings.warn(\n",
      "c:\\Users\\prisc\\anaconda3\\envs\\iteso\\lib\\site-packages\\sklearn\\cluster\\_kmeans.py:1412: FutureWarning: The default value of `n_init` will change from 10 to 'auto' in 1.4. Set the value of `n_init` explicitly to suppress the warning\n",
      "  super()._check_params_vs_input(X, default_n_init=10)\n",
      "c:\\Users\\prisc\\anaconda3\\envs\\iteso\\lib\\site-packages\\sklearn\\cluster\\_kmeans.py:1436: UserWarning: KMeans is known to have a memory leak on Windows with MKL, when there are less chunks than available threads. You can avoid it by setting the environment variable OMP_NUM_THREADS=1.\n",
      "  warnings.warn(\n",
      "c:\\Users\\prisc\\anaconda3\\envs\\iteso\\lib\\site-packages\\sklearn\\cluster\\_kmeans.py:1412: FutureWarning: The default value of `n_init` will change from 10 to 'auto' in 1.4. Set the value of `n_init` explicitly to suppress the warning\n",
      "  super()._check_params_vs_input(X, default_n_init=10)\n",
      "c:\\Users\\prisc\\anaconda3\\envs\\iteso\\lib\\site-packages\\sklearn\\cluster\\_kmeans.py:1436: UserWarning: KMeans is known to have a memory leak on Windows with MKL, when there are less chunks than available threads. You can avoid it by setting the environment variable OMP_NUM_THREADS=1.\n",
      "  warnings.warn(\n",
      "c:\\Users\\prisc\\anaconda3\\envs\\iteso\\lib\\site-packages\\sklearn\\cluster\\_kmeans.py:1412: FutureWarning: The default value of `n_init` will change from 10 to 'auto' in 1.4. Set the value of `n_init` explicitly to suppress the warning\n",
      "  super()._check_params_vs_input(X, default_n_init=10)\n",
      "c:\\Users\\prisc\\anaconda3\\envs\\iteso\\lib\\site-packages\\sklearn\\cluster\\_kmeans.py:1436: UserWarning: KMeans is known to have a memory leak on Windows with MKL, when there are less chunks than available threads. You can avoid it by setting the environment variable OMP_NUM_THREADS=1.\n",
      "  warnings.warn(\n",
      "c:\\Users\\prisc\\anaconda3\\envs\\iteso\\lib\\site-packages\\sklearn\\cluster\\_kmeans.py:1412: FutureWarning: The default value of `n_init` will change from 10 to 'auto' in 1.4. Set the value of `n_init` explicitly to suppress the warning\n",
      "  super()._check_params_vs_input(X, default_n_init=10)\n",
      "c:\\Users\\prisc\\anaconda3\\envs\\iteso\\lib\\site-packages\\sklearn\\cluster\\_kmeans.py:1436: UserWarning: KMeans is known to have a memory leak on Windows with MKL, when there are less chunks than available threads. You can avoid it by setting the environment variable OMP_NUM_THREADS=1.\n",
      "  warnings.warn(\n",
      "c:\\Users\\prisc\\anaconda3\\envs\\iteso\\lib\\site-packages\\sklearn\\cluster\\_kmeans.py:1412: FutureWarning: The default value of `n_init` will change from 10 to 'auto' in 1.4. Set the value of `n_init` explicitly to suppress the warning\n",
      "  super()._check_params_vs_input(X, default_n_init=10)\n",
      "c:\\Users\\prisc\\anaconda3\\envs\\iteso\\lib\\site-packages\\sklearn\\cluster\\_kmeans.py:1436: UserWarning: KMeans is known to have a memory leak on Windows with MKL, when there are less chunks than available threads. You can avoid it by setting the environment variable OMP_NUM_THREADS=1.\n",
      "  warnings.warn(\n",
      "c:\\Users\\prisc\\anaconda3\\envs\\iteso\\lib\\site-packages\\sklearn\\cluster\\_kmeans.py:1412: FutureWarning: The default value of `n_init` will change from 10 to 'auto' in 1.4. Set the value of `n_init` explicitly to suppress the warning\n",
      "  super()._check_params_vs_input(X, default_n_init=10)\n",
      "c:\\Users\\prisc\\anaconda3\\envs\\iteso\\lib\\site-packages\\sklearn\\cluster\\_kmeans.py:1436: UserWarning: KMeans is known to have a memory leak on Windows with MKL, when there are less chunks than available threads. You can avoid it by setting the environment variable OMP_NUM_THREADS=1.\n",
      "  warnings.warn(\n",
      "c:\\Users\\prisc\\anaconda3\\envs\\iteso\\lib\\site-packages\\sklearn\\cluster\\_kmeans.py:1412: FutureWarning: The default value of `n_init` will change from 10 to 'auto' in 1.4. Set the value of `n_init` explicitly to suppress the warning\n",
      "  super()._check_params_vs_input(X, default_n_init=10)\n",
      "c:\\Users\\prisc\\anaconda3\\envs\\iteso\\lib\\site-packages\\sklearn\\cluster\\_kmeans.py:1436: UserWarning: KMeans is known to have a memory leak on Windows with MKL, when there are less chunks than available threads. You can avoid it by setting the environment variable OMP_NUM_THREADS=1.\n",
      "  warnings.warn(\n",
      "c:\\Users\\prisc\\anaconda3\\envs\\iteso\\lib\\site-packages\\sklearn\\cluster\\_kmeans.py:1412: FutureWarning: The default value of `n_init` will change from 10 to 'auto' in 1.4. Set the value of `n_init` explicitly to suppress the warning\n",
      "  super()._check_params_vs_input(X, default_n_init=10)\n",
      "c:\\Users\\prisc\\anaconda3\\envs\\iteso\\lib\\site-packages\\sklearn\\cluster\\_kmeans.py:1436: UserWarning: KMeans is known to have a memory leak on Windows with MKL, when there are less chunks than available threads. You can avoid it by setting the environment variable OMP_NUM_THREADS=1.\n",
      "  warnings.warn(\n",
      "c:\\Users\\prisc\\anaconda3\\envs\\iteso\\lib\\site-packages\\sklearn\\cluster\\_kmeans.py:1412: FutureWarning: The default value of `n_init` will change from 10 to 'auto' in 1.4. Set the value of `n_init` explicitly to suppress the warning\n",
      "  super()._check_params_vs_input(X, default_n_init=10)\n",
      "c:\\Users\\prisc\\anaconda3\\envs\\iteso\\lib\\site-packages\\sklearn\\cluster\\_kmeans.py:1436: UserWarning: KMeans is known to have a memory leak on Windows with MKL, when there are less chunks than available threads. You can avoid it by setting the environment variable OMP_NUM_THREADS=1.\n",
      "  warnings.warn(\n",
      "c:\\Users\\prisc\\anaconda3\\envs\\iteso\\lib\\site-packages\\sklearn\\cluster\\_kmeans.py:1412: FutureWarning: The default value of `n_init` will change from 10 to 'auto' in 1.4. Set the value of `n_init` explicitly to suppress the warning\n",
      "  super()._check_params_vs_input(X, default_n_init=10)\n",
      "c:\\Users\\prisc\\anaconda3\\envs\\iteso\\lib\\site-packages\\sklearn\\cluster\\_kmeans.py:1436: UserWarning: KMeans is known to have a memory leak on Windows with MKL, when there are less chunks than available threads. You can avoid it by setting the environment variable OMP_NUM_THREADS=1.\n",
      "  warnings.warn(\n"
     ]
    }
   ],
   "source": [
    "wcss = []\n",
    "\n",
    "for k in range(1, 20):\n",
    "    kmeans = KMeans(n_clusters = k, random_state  = 42).fit(X)\n",
    "    wcss.append(kmeans.inertia_)"
   ]
  },
  {
   "cell_type": "markdown",
   "id": "689e81d5",
   "metadata": {},
   "source": [
    "# Plot Elbow Method"
   ]
  },
  {
   "cell_type": "code",
   "execution_count": 41,
   "id": "58dc8b5b",
   "metadata": {},
   "outputs": [
    {
     "data": {
      "image/png": "[encoded data removed]",
      "text/plain": [
       "<Figure size 640x480 with 1 Axes>"
      ]
     },
     "metadata": {},
     "output_type": "display_data"
    }
   ],
   "source": [
    "plt.plot(range(1, 20), wcss)\n",
    "plt.title(\"Elbow Method\")\n",
    "plt.xlabel(\"K\")\n",
    "plt.ylabel(\"WCSS/Inertia/Score\")\n",
    "plt.show()"
   ]
  },
  {
   "cell_type": "code",
   "execution_count": null,
   "id": "967128e2",
   "metadata": {},
   "outputs": [],
   "source": []
  }
 ],
 "metadata": {
  "kernelspec": {
   "display_name": "Python 3.8.12 ('UMG')",
   "language": "python",
   "name": "python3"
  },
  "language_info": {
   "codemirror_mode": {
    "name": "ipython",
    "version": 3
   },
   "file_extension": ".py",
   "mimetype": "text/x-python",
   "name": "python",
   "nbconvert_exporter": "python",
   "pygments_lexer": "ipython3",
   "version": "3.10.13"
  },
  "vscode": {
   "interpreter": {
    "hash": "0389bab2fbea60515bf8027f3c0484e787046d7f1c21d6f4a4c9da67d79f5d44"
   }
  }
 },
 "nbformat": 4,
 "nbformat_minor": 5
}
