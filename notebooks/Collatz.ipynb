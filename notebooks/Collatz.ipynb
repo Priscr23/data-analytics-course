{
 "cells": [
  {
   "cell_type": "markdown",
   "metadata": {},
   "source": [
    "#Collatz Activity\n"
   ]
  },
  {
   "cell_type": "code",
   "execution_count": 6,
   "metadata": {},
   "outputs": [],
   "source": [
    "def collatz(i):\n",
    "    seq=[] #queremos guardar los números de la secuencia hasta lleagr a 1\n",
    "    while(i>1):\n",
    "\n",
    "        if(i%2==0):#par\n",
    "            i=i/2\n",
    "            seq.append(i)\n",
    "        \n",
    "        else:#impar\n",
    "            i=3*i+1\n",
    "            seq.append(i)\n",
    "\n",
    "collatz(7)"
   ]
  }
 ],
 "metadata": {
  "kernelspec": {
   "display_name": "iteso",
   "language": "python",
   "name": "python3"
  },
  "language_info": {
   "codemirror_mode": {
    "name": "ipython",
    "version": 3
   },
   "file_extension": ".py",
   "mimetype": "text/x-python",
   "name": "python",
   "nbconvert_exporter": "python",
   "pygments_lexer": "ipython3",
   "version": "3.10.13"
  }
 },
 "nbformat": 4,
 "nbformat_minor": 2
}
