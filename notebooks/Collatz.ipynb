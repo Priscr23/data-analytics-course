{
 "cells": [
  {
   "cell_type": "markdown",
   "metadata": {},
   "source": [
    "#Collatz Activity\n"
   ]
  },
  {
   "cell_type": "code",
   "execution_count": 15,
   "metadata": {},
   "outputs": [
    {
     "data": {
      "text/plain": [
       "([3.0, 10.0, 5.0, 16.0, 8.0, 4.0, 2.0, 1.0], 8)"
      ]
     },
     "execution_count": 15,
     "metadata": {},
     "output_type": "execute_result"
    }
   ],
   "source": [
    "def collatz(i):\n",
    "    seq=[] #queremos guardar los números de la secuencia hasta lleagr a 1\n",
    "    while(i>1):\n",
    "\n",
    "        if(i%2==0):#par\n",
    "            i=i/2\n",
    "            seq.append(i)\n",
    "        \n",
    "        else:#impar\n",
    "            i=3*i+1\n",
    "            seq.append(i)\n",
    "    l=len(seq)\n",
    "    return seq,l\n",
    "\n",
    "collatz(6)"
   ]
  },
  {
   "cell_type": "code",
   "execution_count": 16,
   "metadata": {},
   "outputs": [
    {
     "name": "stdout",
     "output_type": "stream",
     "text": [
      "[28, 14.0, 7.0, 22.0, 11.0, 34.0, 17.0, 52.0, 26.0, 13.0, 40.0, 20.0, 10.0, 5.0, 16.0, 8.0, 4.0, 2.0, 1.0]\n",
      "19\n"
     ]
    }
   ],
   "source": [
    "a=1\n",
    "b=10\n",
    "#longest collatz so far\n",
    "x_len = 0\n",
    "x_seq = []\n",
    "\n",
    "for i in range(a,b+1):\n",
    "    seq,lenght=collatz(i)\n",
    "\n",
    "    if lenght > x_len:\n",
    "        #new longest\n",
    "        x_len = lenght\n",
    "        x_seq = seq\n",
    "\n",
    "print(x_seq)\n",
    "print(x_len)"
   ]
  }
 ],
 "metadata": {
  "kernelspec": {
   "display_name": "iteso",
   "language": "python",
   "name": "python3"
  },
  "language_info": {
   "codemirror_mode": {
    "name": "ipython",
    "version": 3
   },
   "file_extension": ".py",
   "mimetype": "text/x-python",
   "name": "python",
   "nbconvert_exporter": "python",
   "pygments_lexer": "ipython3",
   "version": "3.10.13"
  }
 },
 "nbformat": 4,
 "nbformat_minor": 2
}
